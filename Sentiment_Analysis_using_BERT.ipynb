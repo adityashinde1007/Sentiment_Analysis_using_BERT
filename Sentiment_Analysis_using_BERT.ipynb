{
  "nbformat": 4,
  "nbformat_minor": 0,
  "metadata": {
    "kernelspec": {
      "display_name": "Python 3",
      "language": "python",
      "name": "python3"
    },
    "language_info": {
      "codemirror_mode": {
        "name": "ipython",
        "version": 3
      },
      "file_extension": ".py",
      "mimetype": "text/x-python",
      "name": "python",
      "nbconvert_exporter": "python",
      "pygments_lexer": "ipython3",
      "version": "3.8.8"
    },
    "colab": {
      "provenance": []
    },
    "accelerator": "GPU"
  },
  "cells": [
    {
      "cell_type": "code",
      "metadata": {
        "colab": {
          "base_uri": "https://localhost:8080/"
        },
        "id": "URSNJy-1hA_o",
        "outputId": "b0db173e-502c-42e6-933d-88e115fed258"
      },
      "source": [
        "from google.colab import drive\n",
        "drive.mount('/content/drive')"
      ],
      "execution_count": null,
      "outputs": [
        {
          "output_type": "stream",
          "name": "stdout",
          "text": [
            "Drive already mounted at /content/drive; to attempt to forcibly remount, call drive.mount(\"/content/drive\", force_remount=True).\n"
          ]
        }
      ]
    },
    {
      "cell_type": "code",
      "metadata": {
        "_cell_guid": "b1076dfc-b9ad-4769-8c92-a6c4dae69d19",
        "_uuid": "8f2839f25d086af736a60e9eeb907d3b93b6e0e5",
        "execution": {
          "iopub.execute_input": "2021-08-26T05:50:23.835595Z",
          "iopub.status.busy": "2021-08-26T05:50:23.835105Z",
          "iopub.status.idle": "2021-08-26T05:50:29.793410Z",
          "shell.execute_reply": "2021-08-26T05:50:29.792635Z",
          "shell.execute_reply.started": "2021-08-26T05:50:23.835487Z"
        },
        "colab": {
          "base_uri": "https://localhost:8080/",
          "height": 220
        },
        "id": "wakaXrpIgOtk",
        "outputId": "d6c7e6cf-49fb-4eec-cc39-e218daf71b30"
      },
      "source": [
        "import pandas as pd\n",
        "\n",
        "DATASET_COLUMNS=['review','sentiment']\n",
        "DATASET_ENCODING = \"ISO-8859-1\"\n",
        "df = pd.read_csv('/content/drive/MyDrive/Dataset/IMDB Dataset.csv', encoding=DATASET_ENCODING, names=DATASET_COLUMNS, header = None, nrows = 5000)\n",
        "print(\"Dataframe shape:\", df.shape)\n",
        "df.head()"
      ],
      "execution_count": null,
      "outputs": [
        {
          "output_type": "stream",
          "name": "stdout",
          "text": [
            "Dataframe shape: (5000, 2)\n"
          ]
        },
        {
          "output_type": "execute_result",
          "data": {
            "text/html": [
              "<div>\n",
              "<style scoped>\n",
              "    .dataframe tbody tr th:only-of-type {\n",
              "        vertical-align: middle;\n",
              "    }\n",
              "\n",
              "    .dataframe tbody tr th {\n",
              "        vertical-align: top;\n",
              "    }\n",
              "\n",
              "    .dataframe thead th {\n",
              "        text-align: right;\n",
              "    }\n",
              "</style>\n",
              "<table border=\"1\" class=\"dataframe\">\n",
              "  <thead>\n",
              "    <tr style=\"text-align: right;\">\n",
              "      <th></th>\n",
              "      <th>review</th>\n",
              "      <th>sentiment</th>\n",
              "    </tr>\n",
              "  </thead>\n",
              "  <tbody>\n",
              "    <tr>\n",
              "      <th>0</th>\n",
              "      <td>review</td>\n",
              "      <td>sentiment</td>\n",
              "    </tr>\n",
              "    <tr>\n",
              "      <th>1</th>\n",
              "      <td>One of the other reviewers has mentioned that ...</td>\n",
              "      <td>positive</td>\n",
              "    </tr>\n",
              "    <tr>\n",
              "      <th>2</th>\n",
              "      <td>A wonderful little production. &lt;br /&gt;&lt;br /&gt;The...</td>\n",
              "      <td>positive</td>\n",
              "    </tr>\n",
              "    <tr>\n",
              "      <th>3</th>\n",
              "      <td>I thought this was a wonderful way to spend ti...</td>\n",
              "      <td>positive</td>\n",
              "    </tr>\n",
              "    <tr>\n",
              "      <th>4</th>\n",
              "      <td>Basically there's a family where a little boy ...</td>\n",
              "      <td>negative</td>\n",
              "    </tr>\n",
              "  </tbody>\n",
              "</table>\n",
              "</div>"
            ],
            "text/plain": [
              "                                              review  sentiment\n",
              "0                                             review  sentiment\n",
              "1  One of the other reviewers has mentioned that ...   positive\n",
              "2  A wonderful little production. <br /><br />The...   positive\n",
              "3  I thought this was a wonderful way to spend ti...   positive\n",
              "4  Basically there's a family where a little boy ...   negative"
            ]
          },
          "metadata": {},
          "execution_count": 132
        }
      ]
    },
    {
      "cell_type": "code",
      "metadata": {
        "execution": {
          "iopub.execute_input": "2021-08-26T05:50:29.794996Z",
          "iopub.status.busy": "2021-08-26T05:50:29.794719Z",
          "iopub.status.idle": "2021-08-26T05:50:29.837406Z",
          "shell.execute_reply": "2021-08-26T05:50:29.836454Z",
          "shell.execute_reply.started": "2021-08-26T05:50:29.794970Z"
        },
        "colab": {
          "base_uri": "https://localhost:8080/",
          "height": 203
        },
        "id": "WR_R75dTgOtr",
        "outputId": "de2a5cce-dfd0-46e0-dd42-5d47cf5fb61d"
      },
      "source": [
        "data=df[['review','sentiment']]\n",
        "data.head()"
      ],
      "execution_count": null,
      "outputs": [
        {
          "output_type": "execute_result",
          "data": {
            "text/html": [
              "<div>\n",
              "<style scoped>\n",
              "    .dataframe tbody tr th:only-of-type {\n",
              "        vertical-align: middle;\n",
              "    }\n",
              "\n",
              "    .dataframe tbody tr th {\n",
              "        vertical-align: top;\n",
              "    }\n",
              "\n",
              "    .dataframe thead th {\n",
              "        text-align: right;\n",
              "    }\n",
              "</style>\n",
              "<table border=\"1\" class=\"dataframe\">\n",
              "  <thead>\n",
              "    <tr style=\"text-align: right;\">\n",
              "      <th></th>\n",
              "      <th>review</th>\n",
              "      <th>sentiment</th>\n",
              "    </tr>\n",
              "  </thead>\n",
              "  <tbody>\n",
              "    <tr>\n",
              "      <th>0</th>\n",
              "      <td>review</td>\n",
              "      <td>sentiment</td>\n",
              "    </tr>\n",
              "    <tr>\n",
              "      <th>1</th>\n",
              "      <td>One of the other reviewers has mentioned that ...</td>\n",
              "      <td>positive</td>\n",
              "    </tr>\n",
              "    <tr>\n",
              "      <th>2</th>\n",
              "      <td>A wonderful little production. &lt;br /&gt;&lt;br /&gt;The...</td>\n",
              "      <td>positive</td>\n",
              "    </tr>\n",
              "    <tr>\n",
              "      <th>3</th>\n",
              "      <td>I thought this was a wonderful way to spend ti...</td>\n",
              "      <td>positive</td>\n",
              "    </tr>\n",
              "    <tr>\n",
              "      <th>4</th>\n",
              "      <td>Basically there's a family where a little boy ...</td>\n",
              "      <td>negative</td>\n",
              "    </tr>\n",
              "  </tbody>\n",
              "</table>\n",
              "</div>"
            ],
            "text/plain": [
              "                                              review  sentiment\n",
              "0                                             review  sentiment\n",
              "1  One of the other reviewers has mentioned that ...   positive\n",
              "2  A wonderful little production. <br /><br />The...   positive\n",
              "3  I thought this was a wonderful way to spend ti...   positive\n",
              "4  Basically there's a family where a little boy ...   negative"
            ]
          },
          "metadata": {},
          "execution_count": 133
        }
      ]
    },
    {
      "cell_type": "code",
      "metadata": {
        "execution": {
          "iopub.execute_input": "2021-08-26T05:50:29.839755Z",
          "iopub.status.busy": "2021-08-26T05:50:29.839415Z",
          "iopub.status.idle": "2021-08-26T05:50:29.873424Z",
          "shell.execute_reply": "2021-08-26T05:50:29.872478Z",
          "shell.execute_reply.started": "2021-08-26T05:50:29.839720Z"
        },
        "colab": {
          "base_uri": "https://localhost:8080/"
        },
        "id": "5l2WW2AygOtu",
        "outputId": "0244685d-faa2-47b0-8d25-f66915958923"
      },
      "source": [
        "# data['review'] = data['review'].replace(4,1)\n",
        "data['sentiment'].value_counts()"
      ],
      "execution_count": null,
      "outputs": [
        {
          "output_type": "execute_result",
          "data": {
            "text/plain": [
              "negative     2531\n",
              "positive     2468\n",
              "sentiment       1\n",
              "Name: sentiment, dtype: int64"
            ]
          },
          "metadata": {},
          "execution_count": 134
        }
      ]
    },
    {
      "cell_type": "code",
      "metadata": {
        "execution": {
          "iopub.execute_input": "2021-08-26T05:50:29.875526Z",
          "iopub.status.busy": "2021-08-26T05:50:29.875162Z",
          "iopub.status.idle": "2021-08-26T05:50:29.939548Z",
          "shell.execute_reply": "2021-08-26T05:50:29.938724Z",
          "shell.execute_reply.started": "2021-08-26T05:50:29.875488Z"
        },
        "colab": {
          "base_uri": "https://localhost:8080/",
          "height": 203
        },
        "id": "II6L7iNDgOtv",
        "outputId": "738ff4f0-6b45-4b4f-9774-75f251270d0a"
      },
      "source": [
        "data_pos = data[data['sentiment'] == \"positive\"]\n",
        "# data_pos = data_pos[0:40]\n",
        "data_pos.head()"
      ],
      "execution_count": null,
      "outputs": [
        {
          "output_type": "execute_result",
          "data": {
            "text/html": [
              "<div>\n",
              "<style scoped>\n",
              "    .dataframe tbody tr th:only-of-type {\n",
              "        vertical-align: middle;\n",
              "    }\n",
              "\n",
              "    .dataframe tbody tr th {\n",
              "        vertical-align: top;\n",
              "    }\n",
              "\n",
              "    .dataframe thead th {\n",
              "        text-align: right;\n",
              "    }\n",
              "</style>\n",
              "<table border=\"1\" class=\"dataframe\">\n",
              "  <thead>\n",
              "    <tr style=\"text-align: right;\">\n",
              "      <th></th>\n",
              "      <th>review</th>\n",
              "      <th>sentiment</th>\n",
              "    </tr>\n",
              "  </thead>\n",
              "  <tbody>\n",
              "    <tr>\n",
              "      <th>1</th>\n",
              "      <td>One of the other reviewers has mentioned that ...</td>\n",
              "      <td>positive</td>\n",
              "    </tr>\n",
              "    <tr>\n",
              "      <th>2</th>\n",
              "      <td>A wonderful little production. &lt;br /&gt;&lt;br /&gt;The...</td>\n",
              "      <td>positive</td>\n",
              "    </tr>\n",
              "    <tr>\n",
              "      <th>3</th>\n",
              "      <td>I thought this was a wonderful way to spend ti...</td>\n",
              "      <td>positive</td>\n",
              "    </tr>\n",
              "    <tr>\n",
              "      <th>5</th>\n",
              "      <td>Petter Mattei's \"Love in the Time of Money\" is...</td>\n",
              "      <td>positive</td>\n",
              "    </tr>\n",
              "    <tr>\n",
              "      <th>6</th>\n",
              "      <td>Probably my all-time favorite movie, a story o...</td>\n",
              "      <td>positive</td>\n",
              "    </tr>\n",
              "  </tbody>\n",
              "</table>\n",
              "</div>"
            ],
            "text/plain": [
              "                                              review sentiment\n",
              "1  One of the other reviewers has mentioned that ...  positive\n",
              "2  A wonderful little production. <br /><br />The...  positive\n",
              "3  I thought this was a wonderful way to spend ti...  positive\n",
              "5  Petter Mattei's \"Love in the Time of Money\" is...  positive\n",
              "6  Probably my all-time favorite movie, a story o...  positive"
            ]
          },
          "metadata": {},
          "execution_count": 135
        }
      ]
    },
    {
      "cell_type": "code",
      "metadata": {
        "execution": {
          "iopub.execute_input": "2021-08-26T05:50:29.941283Z",
          "iopub.status.busy": "2021-08-26T05:50:29.940937Z",
          "iopub.status.idle": "2021-08-26T05:50:29.987636Z",
          "shell.execute_reply": "2021-08-26T05:50:29.986646Z",
          "shell.execute_reply.started": "2021-08-26T05:50:29.941247Z"
        },
        "colab": {
          "base_uri": "https://localhost:8080/",
          "height": 203
        },
        "id": "0Y4WMAmMgOtv",
        "outputId": "b616365d-d8c2-40a7-8dd3-e11f300e8c06"
      },
      "source": [
        "data_neg = data[data['sentiment'] == \"negative\"]\n",
        "# data_neg = data_neg[0:40]\n",
        "data_neg.head()"
      ],
      "execution_count": null,
      "outputs": [
        {
          "output_type": "execute_result",
          "data": {
            "text/html": [
              "<div>\n",
              "<style scoped>\n",
              "    .dataframe tbody tr th:only-of-type {\n",
              "        vertical-align: middle;\n",
              "    }\n",
              "\n",
              "    .dataframe tbody tr th {\n",
              "        vertical-align: top;\n",
              "    }\n",
              "\n",
              "    .dataframe thead th {\n",
              "        text-align: right;\n",
              "    }\n",
              "</style>\n",
              "<table border=\"1\" class=\"dataframe\">\n",
              "  <thead>\n",
              "    <tr style=\"text-align: right;\">\n",
              "      <th></th>\n",
              "      <th>review</th>\n",
              "      <th>sentiment</th>\n",
              "    </tr>\n",
              "  </thead>\n",
              "  <tbody>\n",
              "    <tr>\n",
              "      <th>4</th>\n",
              "      <td>Basically there's a family where a little boy ...</td>\n",
              "      <td>negative</td>\n",
              "    </tr>\n",
              "    <tr>\n",
              "      <th>8</th>\n",
              "      <td>This show was an amazing, fresh &amp; innovative i...</td>\n",
              "      <td>negative</td>\n",
              "    </tr>\n",
              "    <tr>\n",
              "      <th>9</th>\n",
              "      <td>Encouraged by the positive comments about this...</td>\n",
              "      <td>negative</td>\n",
              "    </tr>\n",
              "    <tr>\n",
              "      <th>11</th>\n",
              "      <td>Phil the Alien is one of those quirky films wh...</td>\n",
              "      <td>negative</td>\n",
              "    </tr>\n",
              "    <tr>\n",
              "      <th>12</th>\n",
              "      <td>I saw this movie when I was about 12 when it c...</td>\n",
              "      <td>negative</td>\n",
              "    </tr>\n",
              "  </tbody>\n",
              "</table>\n",
              "</div>"
            ],
            "text/plain": [
              "                                               review sentiment\n",
              "4   Basically there's a family where a little boy ...  negative\n",
              "8   This show was an amazing, fresh & innovative i...  negative\n",
              "9   Encouraged by the positive comments about this...  negative\n",
              "11  Phil the Alien is one of those quirky films wh...  negative\n",
              "12  I saw this movie when I was about 12 when it c...  negative"
            ]
          },
          "metadata": {},
          "execution_count": 136
        }
      ]
    },
    {
      "cell_type": "code",
      "metadata": {
        "execution": {
          "iopub.execute_input": "2021-08-26T05:50:29.989423Z",
          "iopub.status.busy": "2021-08-26T05:50:29.989068Z",
          "iopub.status.idle": "2021-08-26T05:50:30.120267Z",
          "shell.execute_reply": "2021-08-26T05:50:30.119302Z",
          "shell.execute_reply.started": "2021-08-26T05:50:29.989387Z"
        },
        "colab": {
          "base_uri": "https://localhost:8080/",
          "height": 203
        },
        "id": "br8V0_QFgOtw",
        "outputId": "cbfd4b78-25b3-40ba-c1b4-6661c39ad121"
      },
      "source": [
        "import numpy as np\n",
        "data_pos = data_pos.sample(2468)\n",
        "data_neg = data_neg.sample(2531)\n",
        "dataset = pd.concat([data_pos, data_neg])\n",
        "dataset = dataset.iloc[np.random.permutation(len(dataset))]\n",
        "dataset=dataset.reset_index(drop=True)\n",
        "dataset.head()"
      ],
      "execution_count": null,
      "outputs": [
        {
          "output_type": "execute_result",
          "data": {
            "text/html": [
              "<div>\n",
              "<style scoped>\n",
              "    .dataframe tbody tr th:only-of-type {\n",
              "        vertical-align: middle;\n",
              "    }\n",
              "\n",
              "    .dataframe tbody tr th {\n",
              "        vertical-align: top;\n",
              "    }\n",
              "\n",
              "    .dataframe thead th {\n",
              "        text-align: right;\n",
              "    }\n",
              "</style>\n",
              "<table border=\"1\" class=\"dataframe\">\n",
              "  <thead>\n",
              "    <tr style=\"text-align: right;\">\n",
              "      <th></th>\n",
              "      <th>review</th>\n",
              "      <th>sentiment</th>\n",
              "    </tr>\n",
              "  </thead>\n",
              "  <tbody>\n",
              "    <tr>\n",
              "      <th>0</th>\n",
              "      <td>I watched this movie so that you don't have to...</td>\n",
              "      <td>negative</td>\n",
              "    </tr>\n",
              "    <tr>\n",
              "      <th>1</th>\n",
              "      <td>Tainted look at kibbutz life&lt;br /&gt;&lt;br /&gt;This f...</td>\n",
              "      <td>negative</td>\n",
              "    </tr>\n",
              "    <tr>\n",
              "      <th>2</th>\n",
              "      <td>Across the country and especially in the polit...</td>\n",
              "      <td>positive</td>\n",
              "    </tr>\n",
              "    <tr>\n",
              "      <th>3</th>\n",
              "      <td>Honestly - this short film sucks. the dummy us...</td>\n",
              "      <td>negative</td>\n",
              "    </tr>\n",
              "    <tr>\n",
              "      <th>4</th>\n",
              "      <td>Wagon Master is a very unique film amongst Joh...</td>\n",
              "      <td>positive</td>\n",
              "    </tr>\n",
              "  </tbody>\n",
              "</table>\n",
              "</div>"
            ],
            "text/plain": [
              "                                              review sentiment\n",
              "0  I watched this movie so that you don't have to...  negative\n",
              "1  Tainted look at kibbutz life<br /><br />This f...  negative\n",
              "2  Across the country and especially in the polit...  positive\n",
              "3  Honestly - this short film sucks. the dummy us...  negative\n",
              "4  Wagon Master is a very unique film amongst Joh...  positive"
            ]
          },
          "metadata": {},
          "execution_count": 137
        }
      ]
    },
    {
      "cell_type": "code",
      "metadata": {
        "execution": {
          "iopub.execute_input": "2021-08-26T05:50:30.122073Z",
          "iopub.status.busy": "2021-08-26T05:50:30.121707Z",
          "iopub.status.idle": "2021-08-26T05:50:30.165530Z",
          "shell.execute_reply": "2021-08-26T05:50:30.164569Z",
          "shell.execute_reply.started": "2021-08-26T05:50:30.122036Z"
        },
        "colab": {
          "base_uri": "https://localhost:8080/"
        },
        "id": "tgJ9OVG2gOtx",
        "outputId": "c03f2ff5-265b-4831-ae33-db74b4cd214c"
      },
      "source": [
        "X=list(dataset['review'])\n",
        "X[:5]"
      ],
      "execution_count": null,
      "outputs": [
        {
          "output_type": "execute_result",
          "data": {
            "text/plain": [
              "['I watched this movie so that you don\\'t have to! I have great respect for Kris Kristofferson, but what was he thinking? He did this for scale? <br /><br />At least the film\\'s title practices truth in advertising, since people and objects routinely disappear throughout the film, adding to the confusion. Kristofferson mentions this in his commentary that even he wasn\\'t sure if Genevieve Bujold\\'s character really existed. This does not bode well for the viewer being able to follow the story!<br /><br />The \"making of\" feature was far more interesting than the movie itself. It explores the difficulty cobbling together funding for an indie, even as the film is being shot.<br /><br />To it\\'s credit, this movie is visually pleasing and doesn\\'t in any way look like a movie made with just slightly over 1M. Too bad the money wasn\\'t spent on a better project.',\n",
              " 'Tainted look at kibbutz life<br /><br />This film is less a cultural story about a boy\\'s life in a kibbutz, but the deliberate demonization of kibbutz life in general. In the first two minutes of the movie, the milk man in charge of the cows rapes one of his calves. And it\\'s all downhill from there in terms of the characters representing typical \"kibbutznikim.\" Besides the two main characters, a clinically depressed woman and her young son, every one else in the kibbutz is a gross caricature of wellÂ\\x85evil. <br /><br />The story centers on how the kibbutz, like some sort of cult, slowly drags the mother and son deeper into despair and what inevitably follows. There is no happiness, no joy, no laughter in this kibbutz. Every character/situation represents a different horrific human vice like misogyny, hypocrisy, violence, cultism, repression etc. For example, while the protagonist is a strikingly handsome European looking 12 year old boy Â\\x96 his older brother is a typical kibbutz youth complete with his \"jewish\" physical appearance and brutish personality. He cares more about screwing foreign volunteers than the health of his dying mother. He treats these volunteers like trash. After his little brother pleads of him to visit his dying mother whom he hasn\\'t seen in a long time due to his military service, he orders, Quote Â\\x96 \"Linda, go take shower and I cum in two minutes.\" <br /><br />There is one other \"good\" character in this movie Â\\x96 a European foreigner who plays the mother\\'s boyfriend. When the animal rapist tries to hit the mother\\'s son, the boyfriend defends him by breaking the rapist\\'s arm. He is summarily kicked out of the kibbutz then for \"violent\" behavior against one of the kibbutz members. More hypocrisy: The indescribably annoying French woman who plays the school teacher preaches that sex cannot happen before age 18, or without love and gives an account of the actual act that\\'s supposed to be humorous for the audience, but is really just stupid. She of course is screwing the head of the kibbutz in the fields who then in turn screws the little boy\\'s mom when her mental health takes a turn for the worse. <br /><br />The film portrays the kibbutz like some sort of cult. Children get yanked out of their beds in the middle of the night and taken to some ritual where they swear allegiance in the fields overseen by the kibbutz elders. The mother apparently can\\'t \"escape\" the kibbutz, although in reality, anyone was/is always free to come and go as they choose. It\\'s a mystery how the boy\\'s father died, but you can rest assured, the kibbutz \"drove him to it\" and his surviving parents are another pair of heartless, wretched characters that weigh down on the mother and her son. <br /><br />That\\'s the gist of this movie. One dimensional characters, over dramatization, dry performances, and an insidious message that keeps trying to hammer itself into the audience\\'s head Â\\x96 that kibbutz life was degrading, miserable and even deadly for those who didn\\'t \"fit in.\" I feel sorry for the guy who made this film Â\\x96 obviously he had a bad experience growing up in a kibbutz. But I feel as though he took a few kernels of truth regarding kibbutz life and turned them into huge atomic stereotyped bombs.',\n",
              " 'Across the country and especially in the political landscape, people with any kind of political ambition, should take time out to see this film. The movie is called \" City Hall \" and with little imagination, its synopsis can take place anywhere in America. It just so happens to open in New York. Here we have the story of a popular politician named Mayor John Pappas (Al Pacino) with enough savvy to run a major metropolitan city with very little effort. His right-hand man is none other than Deputy Mayor Kevin Calhoun (John Cusack) an equally bright individual who\\'s ambitions are tied to his mentor and both seemed destined for higher office. Everything points in that direction, until a police shooting ignites an investigation spearheaded by Marybeth Cogan (Bridget Fonda) who believes the guilt points towards city hall and the mayor. A six year old boy and a police officer\\'s death are blamed on a career criminal who\\'s questionable freedom leads to an apparent cover-up by political pay-offs and city corruption involving union leaders like Danny Aiello played by Frank Anselmo, corrupt judicial officials like Judge Walter Stern. (Martin Landau) and mafia bosses like Paul Zapatti (Anthony Franciosa) who are deeply involved. Also implicated, are party officials like Larry Schwartz (Richard Schiff) who works for the probation office of New York. But it is the bond between the mayor and his deputy which is taken to task by the accidental shooting. A great vehicle for Cusack and a sure bet nominee to become a classic. ****',\n",
              " 'Honestly - this short film sucks. the dummy used in the necro scene is pretty well made but still phony enough looking to ruin the viewing experience. the Unearthed DVD is crisp and clear and I haven\\'t made up my mind if this helps or hinders it. If the film was a little grainy it might have added some \"creepiness factor\" to what was going on. I have no idea why this film has so much hype surrounding it other than the subject matter - but to be honest the necrophilia scenes in films like NEKROMANTIK and VISITOR Q among others, are more shocking than in AFTERMATH. All this talk about the film being about loneliness and all other manner of deep philosophy is bull****. This is an expensive, beautifully filmed turd. It\\'s not that shocking, it\\'s not that disgusting. if you insist on viewing it - rent it. I give it a 3 for the fact that not many people make explicit movies about necrophilia (there should definitely be a bigger selection for us sickos ;) - the filming is good and it does have some \"gore\" (if watching a rubbery looking doll get cut open is considered gore...) but other than that - absolutely nothing going for this over-hyped mess. On the other hand - GENESIS - Cerda\\'s \"sequel\" to AFTERMATH (now available as a \"double feature\" released by Unearthed films) is an absolute masterpiece of a short film, really showing what a good director Cerda really is when given the right material. Although I don\\'t care for AFTERMATH at all, GENESIS is so well made that I will forgive Cerda and Definitely keep an eye out for him in the future...',\n",
              " \"Wagon Master is a very unique film amongst John Ford's work. Mainly because it's the only one that is based on a story written by John Ford himself, the story that was elaborated by Frank Nugent and director's son Â\\x96 Patrick Ford and turned into a screenplay, and because of director's personal opinion regarding it, Wagon Master is the film John Ford called the one which `came closest to being what I had wanted to achieve', to say so is not to say a little, but as Ford confessed once to Lindsay Anderson, his favourite was nonetheless My Darling Clementine and not any other.<br /><br /> Wagon Master has all ingredients one might expect to find in a John Ford's film. Wonderful cast delivering his best, thou not featuring any major stars, except the most `fordian' of all actors Â\\x96 Ben Johnson. Very peculiar small characters, who provide an obligatory comic relief, and Wagon Master has quite a few of them such as horn blowing Sister Ledyard (Jane Darwell) in her shot but very inspired gigs. And last but not least legendary Monument Valley with John Ford's fifth passage through it after Stagecoach, My Darling Clementine, Fort Apache and She Wore a Yellow Ribbon.<br /><br /> The film starts with two friends cowboys Travis Blue (Ben Johnson) and Sandy Owens (Harry Carey Jr) being hired to be Wagon Masters or guides for a caravan of Mormon settlers who are headed to Silver Valley, a place that's for them like a promised land. On their way they are joined by a very peculiar Dr. Locksley Hall (Alan Mowbray) with two beautiful women, who are supposedly his wife and daughter and who call themselves actors. They are headed in the same direction simply because they were recently driven out of the nearest town and have no other place to go. Nothing particularly unpleasant happens till they bump into Cleggs, a dangerous family gang consisting of father and his three sons who are on the run from the Marshal of the town where they recently committed murder and bank robbery.<br /><br /> Overall Wagon Master is no more nor less than one more precious pearl in a necklace of John Ford's wonderful Westerns. A must see. 9/10<br /><br />\"]"
            ]
          },
          "metadata": {},
          "execution_count": 138
        }
      ]
    },
    {
      "cell_type": "code",
      "metadata": {
        "execution": {
          "iopub.execute_input": "2021-08-26T05:50:30.167746Z",
          "iopub.status.busy": "2021-08-26T05:50:30.167290Z",
          "iopub.status.idle": "2021-08-26T05:50:30.197257Z",
          "shell.execute_reply": "2021-08-26T05:50:30.196274Z",
          "shell.execute_reply.started": "2021-08-26T05:50:30.167710Z"
        },
        "colab": {
          "base_uri": "https://localhost:8080/"
        },
        "id": "ouNHjF__gOty",
        "outputId": "10c456b7-022e-4ef9-d833-20041fe3f4e3"
      },
      "source": [
        "from sklearn.preprocessing import LabelEncoder\n",
        "le = LabelEncoder()\n",
        "df[\"labeled_sentiment\"] = le.fit_transform(df[\"sentiment\"])\n",
        "df\n",
        "y=list(df[\"labeled_sentiment\"])[1:]\n",
        "\n",
        "# y=list(dataset['labeled_sentiment'])\n",
        "y[:5]"
      ],
      "execution_count": null,
      "outputs": [
        {
          "output_type": "execute_result",
          "data": {
            "text/plain": [
              "[1, 1, 1, 0, 1]"
            ]
          },
          "metadata": {},
          "execution_count": 139
        }
      ]
    },
    {
      "cell_type": "code",
      "metadata": {
        "execution": {
          "iopub.execute_input": "2021-08-26T05:50:30.200750Z",
          "iopub.status.busy": "2021-08-26T05:50:30.200442Z",
          "iopub.status.idle": "2021-08-26T05:50:31.268721Z",
          "shell.execute_reply": "2021-08-26T05:50:31.267824Z",
          "shell.execute_reply.started": "2021-08-26T05:50:30.200720Z"
        },
        "colab": {
          "base_uri": "https://localhost:8080/"
        },
        "id": "jlLnLhpcgOt0",
        "outputId": "dd4cc382-9811-4f2e-8ebe-0d7562556e15"
      },
      "source": [
        "from sklearn.model_selection import train_test_split\n",
        "X_train, X_test, y_train, y_test = train_test_split(X, y, test_size = 0.20, random_state = 42,stratify=y)\n",
        "X_train[:5]"
      ],
      "execution_count": null,
      "outputs": [
        {
          "output_type": "execute_result",
          "data": {
            "text/plain": [
              "['After some further thought about this film, I find it\\'s far too easy to dismiss this as the Boy\\'s dream. I have actually received some spiritual strength from Northfork.......Angels do exist....we definitely are entertained by Angels....most of the time we aren\\'t even aware of it..... At a point of spiritual and emotional turbidity in my life, I personally really needed this film. Yes, as I wrote before, it speaks to so many......can\\'t wait to get to Heaven...<br /><br />\"Being so sick of all of the FX and Formula stuff, I found this film to be genuine Cinema. All I can say is it touched me in so many ways, that I still am sorting it all out. North Fork is a wonderful film. One that brings the viewer\\'s mind out of the gutter and into the heart. The spiritual aspect is so very intriguing to me. Pay attention, as you\\'ll need to use the brain and heart God gave you to follow the story. I think it\\'s possibly a bit over the heads of some, but I feel those are the individuals it speaks to most importantly. I want to view it several more times, just so I can take it all in!<br /><br />The Industry needs to study this film to realize we do exist.<br /><br />My thanks to all involved in the making of this film.\"',\n",
              " 'I firmly believe that the best Oscar ceremony in recent years was in 2003 for two reasons: <br /><br />1 ) Host Steve Martin was at his most wittiest: \" I saw the teamsters help Michael Moore into the trunk of his limo \" and \" I\\'ll better not mention the gay mafia in case I wake up with a poodle\\'s head in my bed \" <br /><br />2 ) Surprise winners: No one had Adrien Brody down for best actor ( Genuine applause ) or Roman Polanski for best director ( Genuine jeers and boos ) but they won <br /><br />Last year\\'s award ceremony wasn\\'t too bad but there was little in the way of surprises and I was happy to see RETURN OF THE KING sweep the awards even if it wasn\\'t the best in the trilogy ( FELLOWSHIP was much better )but what let the BBC coverage down was Jonathan Ross getting a few of his sycophantic mates round and pretending they were hilarious when they were anything but . So when I heard Sky were doing the coverage for British TV I was expecting Barry Norman and Mark Kermode to be doing the links , but instead we ended up with Jamie Theakston and Sharon Osbourne ! Oh gawd if British TV are desperate for film critics ( Obviously they are ) I\\'m sure both Bob The Moo and Theo Robertson will happily fly over to LA to give their honest opinions on the winners and losers <br /><br />Chris Rock wasn\\'t too bad , but he\\'s no Steve Martin while the location seemed to resemble a sports hall with seats put in ! Not much of a glitzy arena in my opinion . The main problem I had with the ceremony was the format with the \" minor \" Oscars handed out to the winners who were sitting in their seats ! There\\'s no such thing as a \" minor \" Oscar and just because the award is for Best Animated Short or Best Costume Design they\\'re as well deserved as Best Picture or Best Director . All the winners should be allowed to march up to the podium . What a bunch of arrogant snobs the Academy are becoming and I quite agree with the comments that this format is disgraceful and if it wasn\\'t for the surprises this could possibly have been the worst ceremony in history . As for the awards themselves <br /><br />Best Supporting Actress - Cate Blanchett . No great surprise for a competitive category <br /><br />Best Supporting Actor - Morgan Freeman . No real complaints since Freeman is one of America\\'s greatest living character actors <br /><br />Best Actor - Jamie Foxx . Most predictable award of the night . Yawn <br /><br />Best Actress - Hilary Swank . Major surprise since everyone thought Annette Benning was going to win simply down to academy politics but Swank did deserve it and gave the best speech of the night <br /><br />Best Director - Clint Eastwood . Major surprise since everyone thought Scorsese was going to get the award simply because he\\'d never won one . Actually I\\'m glad about this because if he didn\\'t deserve it for TAXI DRIVER , RAGING BULL or GOODFELLAS he didn\\'t deserve it for THE AVIATOR <br /><br />Best Film - MILLION DOLLAR BABY . Again another major surprise since everyone thought the academy would split the awards for best director and best picture while I thought the Hollywood friendly plot of THE AVIATOR would have made it a dead cert for Best Picture while MDB\\'s controversial subject matter would have turned a lot of voters off <br /><br />What these awards perhaps illustrate is that this year the voters have decided to ignore Oscar politics and genuinely give out awards to people who deserve it something they haven\\'t done in the past , I mean A BEAUTIFUL MIND beating THE FELLOWSHIP OF THE RING for gawd\\'s sake ! And long may the academy vote with their heads instead of their hearts',\n",
              " 'Watching CBS\\'s \"Surrender, Dorothy\", I kept wondering why Diane Keaton would want to be in it (not because it\\'s a television movie--with the dearth of enticing roles for slightly older actresses, it isn\\'t any wonder why Academy Award winning performers such as Keaton turn to TV--but because it offers no opportunities for Keaton to shine). A single mother, grieving the sudden death of her twenty-something daughter, imposes upon--and gradually becomes friends with--the group of young people her daughter was close to at the time of her accident. Adapted from the novel, this teleplay gives us a group of self-absorbed characters one would cross the street to avoid. Aside from being coarse and dim, these phony people are incredibly unconvincing, as is the tidy scenario and the bungalow near the beach where the kids reside (one young man, who wears muscle shirts to tell us he\\'s gay, hears Diane Keaton say, \"Surrender, Dorothy\" and actually asks, \"That\\'s from \"The Wizard of Oz\", right?\"...no, genius, it\\'s from \"Citizen Kane\"!). Keaton may have wanted to do this material based on the subject matter of confronting death. She tries turning this distinctly unlikable woman into a shadow of her own personage (lots of kooky outfits), but it doesn\\'t sit well with the viewer since Keaton has always been warmly likable and flexible in a flaky way. Here, she\\'s a crazed harpy who doesn\\'t learn many lessons on her journey of self-discovery (the movie quickly forgets it\\'s about a dead young woman and becomes an odyssey for the nervous wreck of a mom, who appears to be an overage hippie who has never lost anyone close to her). This is the kind of film actors promote on talk shows with the caveat, \"It should help a lot of grieving mothers out there\". I can\\'t imagine it helping anyone since it is intrinsically a downer, muddled and baffling. It\\'s deranged.',\n",
              " \"This is probably one of the best Portuguese movies I ever saw... I absolutely enjoyed the plot, because by the way the story was developing, you would get more involved on how their world was really upside-down... There is just only one part that doesn't really seem to fit in the movie, which is the girls' strip... It does not add anything important to the story, it looks like it's just there for a men entertaining purpose. The ending is a bit unexpected, though, at the same time, somewhat expected. If you don't understand, then follow me: after so many strange occurrences, the viewer is so used to oddities, that ending the movie with totally unexpected relationships (Like Mimoso and Susana) sounds totally natural after seeing the rest of the movie. But, most of all, Sorte Nula is a movie that makes you think hard trying to solve the mysterious occourings, laugh your head off with their unlucky lives and mess with your perception of what can happen in just a few minutes, when you turn your back away from something... for all that, I rate it 8/10\",\n",
              " 'A young girl becomes a war-time marine\\'s pen-pal, and when he visits at war\\'s end expecting someone a bit more \"available,\" comic complications ensue. All ultimately works out well, naturally, but not before everyone involved has thoroughly chewed the scenery. Errol Flynn\\'s dead-on impression of Humphrey Bogart from \"Casablanca\" is a highlight, as are various send-ups of his own swashbuckling image (the \"jumping\" scene in the kitchen with Forrest Tucker is a riot). It is Tucker, though, who \"tucks\" the movie under his arm, lowers his head and barrels over the goal line. He demonstrates the comic flair more fully developed twenty years later in \"F-Troop\" and imparts a liveliness and energy that Flynn repeatedly plays off to raise his own performance. Eleanor Parker does a fine job as the woman being pursued, and little Patti Brady charms as Tucker\\'s actual pen-pal friend. A fine, lightweight \"coming home\" comedy in a genteel setting that children and romantics of all ages should find entertaining.']"
            ]
          },
          "metadata": {},
          "execution_count": 140
        }
      ]
    },
    {
      "cell_type": "code",
      "metadata": {
        "_kg_hide-output": true,
        "execution": {
          "iopub.execute_input": "2021-08-26T05:50:31.270635Z",
          "iopub.status.busy": "2021-08-26T05:50:31.270301Z",
          "iopub.status.idle": "2021-08-26T05:50:38.614844Z",
          "shell.execute_reply": "2021-08-26T05:50:38.613909Z",
          "shell.execute_reply.started": "2021-08-26T05:50:31.270601Z"
        },
        "colab": {
          "base_uri": "https://localhost:8080/"
        },
        "id": "YEdBmh88gOt1",
        "outputId": "ea653391-804d-480e-c0dc-0789cf82d163"
      },
      "source": [
        "!pip install transformers==4.6.0\n"
      ],
      "execution_count": null,
      "outputs": [
        {
          "output_type": "stream",
          "name": "stdout",
          "text": [
            "Requirement already satisfied: transformers==4.6.0 in /usr/local/lib/python3.7/dist-packages (4.6.0)\n",
            "Requirement already satisfied: tokenizers<0.11,>=0.10.1 in /usr/local/lib/python3.7/dist-packages (from transformers==4.6.0) (0.10.3)\n",
            "Requirement already satisfied: filelock in /usr/local/lib/python3.7/dist-packages (from transformers==4.6.0) (3.3.0)\n",
            "Requirement already satisfied: tqdm>=4.27 in /usr/local/lib/python3.7/dist-packages (from transformers==4.6.0) (4.62.3)\n",
            "Requirement already satisfied: numpy>=1.17 in /usr/local/lib/python3.7/dist-packages (from transformers==4.6.0) (1.19.5)\n",
            "Requirement already satisfied: regex!=2019.12.17 in /usr/local/lib/python3.7/dist-packages (from transformers==4.6.0) (2019.12.20)\n",
            "Requirement already satisfied: requests in /usr/local/lib/python3.7/dist-packages (from transformers==4.6.0) (2.23.0)\n",
            "Requirement already satisfied: sacremoses in /usr/local/lib/python3.7/dist-packages (from transformers==4.6.0) (0.0.46)\n",
            "Requirement already satisfied: importlib-metadata in /usr/local/lib/python3.7/dist-packages (from transformers==4.6.0) (4.8.1)\n",
            "Requirement already satisfied: packaging in /usr/local/lib/python3.7/dist-packages (from transformers==4.6.0) (21.0)\n",
            "Requirement already satisfied: huggingface-hub==0.0.8 in /usr/local/lib/python3.7/dist-packages (from transformers==4.6.0) (0.0.8)\n",
            "Requirement already satisfied: zipp>=0.5 in /usr/local/lib/python3.7/dist-packages (from importlib-metadata->transformers==4.6.0) (3.6.0)\n",
            "Requirement already satisfied: typing-extensions>=3.6.4 in /usr/local/lib/python3.7/dist-packages (from importlib-metadata->transformers==4.6.0) (3.7.4.3)\n",
            "Requirement already satisfied: pyparsing>=2.0.2 in /usr/local/lib/python3.7/dist-packages (from packaging->transformers==4.6.0) (2.4.7)\n",
            "Requirement already satisfied: chardet<4,>=3.0.2 in /usr/local/lib/python3.7/dist-packages (from requests->transformers==4.6.0) (3.0.4)\n",
            "Requirement already satisfied: idna<3,>=2.5 in /usr/local/lib/python3.7/dist-packages (from requests->transformers==4.6.0) (2.10)\n",
            "Requirement already satisfied: urllib3!=1.25.0,!=1.25.1,<1.26,>=1.21.1 in /usr/local/lib/python3.7/dist-packages (from requests->transformers==4.6.0) (1.24.3)\n",
            "Requirement already satisfied: certifi>=2017.4.17 in /usr/local/lib/python3.7/dist-packages (from requests->transformers==4.6.0) (2021.5.30)\n",
            "Requirement already satisfied: click in /usr/local/lib/python3.7/dist-packages (from sacremoses->transformers==4.6.0) (7.1.2)\n",
            "Requirement already satisfied: six in /usr/local/lib/python3.7/dist-packages (from sacremoses->transformers==4.6.0) (1.15.0)\n",
            "Requirement already satisfied: joblib in /usr/local/lib/python3.7/dist-packages (from sacremoses->transformers==4.6.0) (1.0.1)\n"
          ]
        }
      ]
    },
    {
      "cell_type": "code",
      "metadata": {
        "execution": {
          "iopub.execute_input": "2021-08-26T05:50:38.617814Z",
          "iopub.status.busy": "2021-08-26T05:50:38.617448Z",
          "iopub.status.idle": "2021-08-26T05:50:43.391947Z",
          "shell.execute_reply": "2021-08-26T05:50:43.391108Z",
          "shell.execute_reply.started": "2021-08-26T05:50:38.617763Z"
        },
        "id": "YgFrrE-ugOt2"
      },
      "source": [
        "from transformers import DistilBertTokenizerFast\n",
        "tokenizer = DistilBertTokenizerFast.from_pretrained('distilbert-base-uncased')"
      ],
      "execution_count": null,
      "outputs": []
    },
    {
      "cell_type": "code",
      "metadata": {
        "execution": {
          "iopub.execute_input": "2021-08-26T05:50:43.393590Z",
          "iopub.status.busy": "2021-08-26T05:50:43.393229Z",
          "iopub.status.idle": "2021-08-26T05:51:03.631242Z",
          "shell.execute_reply": "2021-08-26T05:51:03.630341Z",
          "shell.execute_reply.started": "2021-08-26T05:50:43.393553Z"
        },
        "id": "Slch889wgOt3"
      },
      "source": [
        "train_encodings = tokenizer(X_train, truncation=True, padding=True)\n",
        "test_encodings = tokenizer(X_test, truncation=True, padding=True)"
      ],
      "execution_count": null,
      "outputs": []
    },
    {
      "cell_type": "code",
      "metadata": {
        "execution": {
          "iopub.execute_input": "2021-08-26T05:51:03.632883Z",
          "iopub.status.busy": "2021-08-26T05:51:03.632527Z",
          "iopub.status.idle": "2021-08-26T05:51:03.638424Z",
          "shell.execute_reply": "2021-08-26T05:51:03.637623Z",
          "shell.execute_reply.started": "2021-08-26T05:51:03.632847Z"
        },
        "colab": {
          "base_uri": "https://localhost:8080/"
        },
        "id": "z0BO12e8gOt3",
        "outputId": "59dd382e-90e2-4c43-f1d6-53cce3cf6aa3"
      },
      "source": [
        "y_train[:5]"
      ],
      "execution_count": null,
      "outputs": [
        {
          "output_type": "execute_result",
          "data": {
            "text/plain": [
              "[1, 0, 0, 0, 1]"
            ]
          },
          "metadata": {},
          "execution_count": 144
        }
      ]
    },
    {
      "cell_type": "code",
      "metadata": {
        "execution": {
          "iopub.execute_input": "2021-08-26T05:51:03.640280Z",
          "iopub.status.busy": "2021-08-26T05:51:03.639724Z",
          "iopub.status.idle": "2021-08-26T05:54:32.326315Z",
          "shell.execute_reply": "2021-08-26T05:54:32.325279Z",
          "shell.execute_reply.started": "2021-08-26T05:51:03.640243Z"
        },
        "id": "MHSf2RG9gOt4"
      },
      "source": [
        "import tensorflow as tf\n",
        "\n",
        "train_dataset = tf.data.Dataset.from_tensor_slices((\n",
        "    dict(train_encodings),\n",
        "    y_train\n",
        "))\n",
        "\n",
        "test_dataset = tf.data.Dataset.from_tensor_slices((\n",
        "    dict(test_encodings),\n",
        "    y_test\n",
        "))"
      ],
      "execution_count": null,
      "outputs": []
    },
    {
      "cell_type": "code",
      "metadata": {
        "execution": {
          "iopub.execute_input": "2021-08-26T05:54:32.328061Z",
          "iopub.status.busy": "2021-08-26T05:54:32.327673Z",
          "iopub.status.idle": "2021-08-26T05:54:34.123891Z",
          "shell.execute_reply": "2021-08-26T05:54:34.122780Z",
          "shell.execute_reply.started": "2021-08-26T05:54:32.328024Z"
        },
        "id": "yMjbzqdvgOt5"
      },
      "source": [
        "from transformers import TFDistilBertForSequenceClassification, TFTrainer, TFTrainingArguments\n",
        "\n",
        "training_args = TFTrainingArguments(\n",
        "    output_dir='./results',          # output directory\n",
        "    num_train_epochs=2,              # total number of training epochs\n",
        "    per_device_train_batch_size=16,  # batch size per device during training\n",
        "    per_device_eval_batch_size=16,   # batch size for evaluation\n",
        "    warmup_steps=500,                # number of warmup steps for learning rate scheduler\n",
        "    weight_decay=0.1,               # strength of weight decay\n",
        "    logging_steps=100,\n",
        ")"
      ],
      "execution_count": null,
      "outputs": []
    },
    {
      "cell_type": "code",
      "metadata": {
        "execution": {
          "iopub.execute_input": "2021-08-26T05:54:34.125973Z",
          "iopub.status.busy": "2021-08-26T05:54:34.125576Z",
          "iopub.status.idle": "2021-08-26T06:45:39.766681Z",
          "shell.execute_reply": "2021-08-26T06:45:39.765700Z",
          "shell.execute_reply.started": "2021-08-26T05:54:34.125916Z"
        },
        "colab": {
          "base_uri": "https://localhost:8080/"
        },
        "id": "HMmjmXNogOt5",
        "outputId": "8728ba01-1ca6-46e0-e56f-63a7c3cbd8f8"
      },
      "source": [
        "with training_args.strategy.scope():\n",
        "    model = TFDistilBertForSequenceClassification.from_pretrained(\"distilbert-base-uncased\")\n",
        "\n",
        "trainer = TFTrainer(\n",
        "    model=model,                         # the instantiated 🤗 Transformers model to be trained\n",
        "    args=training_args,                  # training arguments, defined above\n",
        "    train_dataset=train_dataset,         # training dataset\n",
        "    eval_dataset=test_dataset             # evaluation dataset\n",
        ")\n",
        "\n",
        "\n",
        "trainer.train()"
      ],
      "execution_count": null,
      "outputs": [
        {
          "output_type": "stream",
          "name": "stderr",
          "text": [
            "Some layers from the model checkpoint at distilbert-base-uncased were not used when initializing TFDistilBertForSequenceClassification: ['vocab_projector', 'vocab_transform', 'vocab_layer_norm', 'activation_13']\n",
            "- This IS expected if you are initializing TFDistilBertForSequenceClassification from the checkpoint of a model trained on another task or with another architecture (e.g. initializing a BertForSequenceClassification model from a BertForPreTraining model).\n",
            "- This IS NOT expected if you are initializing TFDistilBertForSequenceClassification from the checkpoint of a model that you expect to be exactly identical (initializing a BertForSequenceClassification model from a BertForSequenceClassification model).\n",
            "Some layers of TFDistilBertForSequenceClassification were not initialized from the model checkpoint at distilbert-base-uncased and are newly initialized: ['pre_classifier', 'dropout_79', 'classifier']\n",
            "You should probably TRAIN this model on a down-stream task to be able to use it for predictions and inference.\n"
          ]
        }
      ]
    },
    {
      "cell_type": "code",
      "metadata": {
        "execution": {
          "iopub.execute_input": "2021-08-26T06:45:39.768626Z",
          "iopub.status.busy": "2021-08-26T06:45:39.768274Z",
          "iopub.status.idle": "2021-08-26T06:47:36.486535Z",
          "shell.execute_reply": "2021-08-26T06:47:36.485781Z",
          "shell.execute_reply.started": "2021-08-26T06:45:39.768586Z"
        },
        "id": "gxnxPYQ8gOt7",
        "colab": {
          "base_uri": "https://localhost:8080/"
        },
        "outputId": "a130ff3d-8028-4525-dad8-c9827b31b07a"
      },
      "source": [
        "trainer.evaluate(test_dataset)"
      ],
      "execution_count": null,
      "outputs": [
        {
          "output_type": "stream",
          "name": "stdout",
          "text": [
            "WARNING:tensorflow:The parameters `output_attentions`, `output_hidden_states` and `use_cache` cannot be updated when calling a model.They have to be set to True/False in the config object (i.e.: `config=XConfig.from_pretrained('name', output_attentions=True)`).\n",
            "WARNING:tensorflow:The parameter `return_dict` cannot be set in graph mode and will always be set to `True`.\n"
          ]
        },
        {
          "output_type": "execute_result",
          "data": {
            "text/plain": [
              "{'eval_loss': 0.6960604228670635}"
            ]
          },
          "metadata": {},
          "execution_count": 148
        }
      ]
    },
    {
      "cell_type": "code",
      "metadata": {
        "execution": {
          "iopub.execute_input": "2021-08-26T06:47:36.488212Z",
          "iopub.status.busy": "2021-08-26T06:47:36.487866Z",
          "iopub.status.idle": "2021-08-26T06:49:28.828846Z",
          "shell.execute_reply": "2021-08-26T06:49:28.828043Z",
          "shell.execute_reply.started": "2021-08-26T06:47:36.488177Z"
        },
        "id": "DRrrFmRNgOt7",
        "colab": {
          "base_uri": "https://localhost:8080/"
        },
        "outputId": "0db48eb5-cf62-42ff-b4ef-2c7c0388dbf2"
      },
      "source": [
        "trainer.predict(test_dataset)"
      ],
      "execution_count": null,
      "outputs": [
        {
          "output_type": "stream",
          "name": "stdout",
          "text": [
            "WARNING:tensorflow:The parameters `output_attentions`, `output_hidden_states` and `use_cache` cannot be updated when calling a model.They have to be set to True/False in the config object (i.e.: `config=XConfig.from_pretrained('name', output_attentions=True)`).\n",
            "WARNING:tensorflow:The parameter `return_dict` cannot be set in graph mode and will always be set to `True`.\n"
          ]
        },
        {
          "output_type": "execute_result",
          "data": {
            "text/plain": [
              "PredictionOutput(predictions=array([[-0.12973665,  0.00567051],\n",
              "       [-0.13656467,  0.01338657],\n",
              "       [-0.13010158,  0.0083384 ],\n",
              "       ...,\n",
              "       [-0.12981796,  0.00842399],\n",
              "       [-0.13041387,  0.00818098],\n",
              "       [-0.1274275 ,  0.00639599]], dtype=float32), label_ids=array([1, 0, 0, 1, 1, 1, 1, 1, 0, 0, 0, 0, 0, 1, 0, 0, 0, 1, 0, 1, 0, 1,\n",
              "       0, 0, 0, 1, 1, 0, 1, 0, 1, 0, 0, 1, 0, 0, 0, 0, 0, 0, 1, 1, 0, 1,\n",
              "       0, 1, 1, 0, 0, 0, 0, 0, 1, 1, 0, 1, 1, 0, 1, 0, 0, 1, 1, 0, 1, 0,\n",
              "       1, 0, 0, 0, 1, 0, 0, 0, 1, 0, 1, 0, 1, 1, 1, 1, 0, 0, 0, 0, 0, 0,\n",
              "       1, 1, 0, 1, 0, 1, 1, 0, 1, 0, 1, 0, 0, 0, 0, 0, 0, 1, 0, 1, 0, 0,\n",
              "       1, 1, 1, 0, 0, 0, 0, 1, 1, 0, 1, 0, 0, 0, 1, 0, 0, 0, 1, 0, 0, 1,\n",
              "       1, 1, 1, 0, 1, 1, 0, 0, 1, 0, 0, 0, 0, 1, 1, 1, 1, 0, 1, 0, 0, 1,\n",
              "       0, 1, 0, 1, 1, 0, 0, 0, 0, 0, 0, 1, 0, 1, 0, 1, 0, 1, 1, 0, 0, 0,\n",
              "       0, 0, 0, 1, 0, 1, 0, 0, 1, 0, 0, 1, 0, 0, 1, 0, 0, 0, 1, 1, 0, 1,\n",
              "       0, 1, 0, 1, 0, 0, 1, 1, 1, 0, 0, 1, 0, 1, 1, 1, 1, 0, 0, 1, 0, 0,\n",
              "       0, 0, 0, 1, 0, 0, 1, 1, 0, 0, 0, 1, 0, 1, 0, 0, 1, 0, 1, 0, 1, 0,\n",
              "       1, 0, 1, 0, 1, 0, 1, 0, 0, 0, 0, 0, 0, 1, 0, 0, 1, 1, 0, 0, 0, 1,\n",
              "       1, 1, 1, 1, 1, 1, 1, 0, 0, 0, 0, 0, 1, 0, 1, 1, 0, 1, 1, 1, 0, 1,\n",
              "       0, 0, 1, 1, 0, 1, 1, 0, 0, 0, 1, 1, 1, 0, 1, 0, 0, 0, 0, 0, 1, 0,\n",
              "       1, 1, 0, 1, 1, 1, 0, 1, 1, 1, 1, 0, 1, 1, 1, 0, 0, 1, 0, 1, 0, 0,\n",
              "       0, 0, 0, 0, 0, 1, 0, 0, 0, 0, 1, 1, 1, 0, 0, 0, 1, 0, 0, 0, 0, 1,\n",
              "       1, 1, 0, 0, 1, 0, 0, 1, 1, 0, 0, 1, 0, 1, 0, 0, 0, 1, 0, 0, 1, 1,\n",
              "       0, 0, 1, 1, 0, 1, 1, 1, 1, 1, 1, 1, 1, 0, 1, 1, 0, 0, 0, 1, 0, 0,\n",
              "       1, 0, 1, 0, 1, 1, 1, 1, 0, 0, 1, 0, 1, 0, 0, 1, 0, 1, 1, 1, 0, 1,\n",
              "       0, 1, 1, 1, 1, 1, 0, 1, 0, 1, 1, 0, 1, 0, 0, 0, 0, 0, 1, 1, 1, 1,\n",
              "       0, 1, 1, 1, 1, 1, 0, 0, 0, 0, 1, 1, 1, 0, 1, 0, 1, 1, 1, 1, 1, 1,\n",
              "       0, 1, 0, 1, 0, 1, 1, 1, 0, 1, 1, 1, 1, 1, 0, 0, 0, 1, 1, 0, 1, 0,\n",
              "       0, 1, 1, 0, 0, 0, 1, 0, 1, 1, 1, 0, 1, 1, 0, 1, 0, 0, 0, 0, 0, 1,\n",
              "       0, 1, 1, 1, 0, 0, 0, 1, 0, 1, 1, 0, 1, 0, 1, 1, 0, 1, 1, 1, 0, 0,\n",
              "       0, 1, 0, 1, 0, 0, 1, 1, 0, 0, 0, 0, 0, 1, 1, 0, 1, 0, 0, 0, 1, 1,\n",
              "       0, 1, 0, 1, 0, 0, 1, 0, 1, 0, 1, 0, 0, 1, 1, 0, 0, 1, 0, 1, 1, 0,\n",
              "       0, 1, 0, 1, 0, 1, 0, 1, 1, 1, 1, 1, 1, 0, 1, 0, 1, 1, 0, 1, 1, 0,\n",
              "       1, 0, 0, 1, 0, 1, 1, 1, 0, 1, 0, 0, 1, 0, 0, 1, 1, 1, 1, 0, 0, 0,\n",
              "       0, 0, 0, 0, 1, 1, 0, 0, 0, 0, 0, 1, 0, 0, 1, 1, 0, 1, 0, 0, 1, 0,\n",
              "       1, 1, 1, 1, 0, 1, 1, 1, 0, 1, 1, 1, 1, 0, 1, 1, 1, 0, 1, 0, 1, 0,\n",
              "       1, 1, 1, 1, 1, 0, 0, 1, 0, 0, 0, 1, 1, 0, 0, 1, 1, 1, 0, 0, 0, 1,\n",
              "       0, 1, 0, 0, 1, 0, 0, 0, 1, 0, 1, 1, 1, 1, 1, 1, 0, 1, 0, 1, 0, 1,\n",
              "       1, 0, 1, 1, 1, 1, 0, 0, 0, 1, 0, 0, 1, 0, 1, 0, 1, 1, 0, 0, 0, 1,\n",
              "       1, 1, 1, 0, 1, 0, 1, 1, 0, 1, 1, 0, 1, 1, 0, 0, 0, 0, 1, 0, 1, 1,\n",
              "       0, 0, 1, 0, 0, 0, 1, 0, 1, 0, 1, 0, 0, 0, 0, 0, 0, 0, 0, 1, 1, 0,\n",
              "       0, 1, 1, 1, 0, 1, 0, 1, 1, 0, 0, 1, 1, 1, 1, 1, 1, 0, 0, 0, 1, 0,\n",
              "       0, 0, 1, 1, 1, 0, 0, 1, 1, 0, 0, 0, 0, 1, 1, 1, 1, 0, 1, 1, 1, 0,\n",
              "       0, 1, 1, 1, 0, 0, 1, 0, 1, 0, 0, 0, 1, 0, 1, 0, 1, 1, 0, 0, 0, 0,\n",
              "       0, 1, 1, 0, 0, 0, 0, 1, 0, 0, 0, 1, 0, 1, 1, 1, 1, 0, 0, 1, 1, 0,\n",
              "       0, 0, 1, 1, 0, 1, 0, 0, 0, 1, 1, 1, 0, 0, 1, 1, 1, 0, 1, 0, 0, 0,\n",
              "       1, 1, 0, 0, 0, 0, 1, 1, 0, 1, 1, 0, 0, 0, 0, 0, 0, 0, 1, 1, 0, 1,\n",
              "       1, 1, 1, 0, 0, 0, 1, 0, 0, 0, 0, 0, 1, 1, 1, 0, 0, 1, 1, 0, 0, 1,\n",
              "       1, 1, 1, 0, 1, 1, 1, 1, 1, 1, 1, 1, 1, 1, 0, 0, 0, 1, 1, 0, 1, 0,\n",
              "       0, 1, 0, 0, 0, 0, 0, 0, 1, 1, 1, 0, 0, 1, 0, 0, 1, 1, 1, 0, 1, 1,\n",
              "       1, 1, 0, 1, 1, 0, 1, 1, 0, 0, 1, 1, 1, 1, 1, 1, 1, 0, 1, 0, 0, 1,\n",
              "       1, 1, 1, 1, 1, 0, 1, 1, 1, 0], dtype=int32), metrics={'eval_loss': 0.696054186139788})"
            ]
          },
          "metadata": {},
          "execution_count": 149
        }
      ]
    },
    {
      "cell_type": "code",
      "metadata": {
        "execution": {
          "iopub.execute_input": "2021-08-26T06:49:28.830394Z",
          "iopub.status.busy": "2021-08-26T06:49:28.830060Z",
          "iopub.status.idle": "2021-08-26T06:51:21.395437Z",
          "shell.execute_reply": "2021-08-26T06:51:21.394585Z",
          "shell.execute_reply.started": "2021-08-26T06:49:28.830365Z"
        },
        "id": "v7_dB_PlgOt7",
        "colab": {
          "base_uri": "https://localhost:8080/"
        },
        "outputId": "3cbf19d4-e478-4fd1-ecb1-aa89022fa954"
      },
      "source": [
        "from sklearn.metrics import classification_report\n",
        "print(classification_report(y_test,trainer.predict(test_dataset)[1]))"
      ],
      "execution_count": null,
      "outputs": [
        {
          "output_type": "stream",
          "name": "stdout",
          "text": [
            "              precision    recall  f1-score   support\n",
            "\n",
            "           0       1.00      1.00      1.00       506\n",
            "           1       1.00      1.00      1.00       494\n",
            "\n",
            "    accuracy                           1.00      1000\n",
            "   macro avg       1.00      1.00      1.00      1000\n",
            "weighted avg       1.00      1.00      1.00      1000\n",
            "\n"
          ]
        }
      ]
    }
  ]
}